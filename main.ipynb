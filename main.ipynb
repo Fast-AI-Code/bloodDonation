{
 "cells": [
  {
   "cell_type": "code",
   "execution_count": 15,
   "metadata": {
    "ExecuteTime": {
     "end_time": "2020-01-15T12:55:22.059686Z",
     "start_time": "2020-01-15T12:55:17.179072Z"
    }
   },
   "outputs": [],
   "source": [
    "import pandas as pd\n",
    "import seaborn as sns"
   ]
  },
  {
   "cell_type": "markdown",
   "metadata": {},
   "source": [
    "# Data"
   ]
  },
  {
   "cell_type": "code",
   "execution_count": 2,
   "metadata": {
    "ExecuteTime": {
     "end_time": "2020-01-15T12:50:21.221055Z",
     "start_time": "2020-01-15T12:50:21.215071Z"
    }
   },
   "outputs": [],
   "source": [
    "data = pd.read_csv('data/transfusion.csv')"
   ]
  },
  {
   "cell_type": "code",
   "execution_count": 3,
   "metadata": {
    "ExecuteTime": {
     "end_time": "2020-01-15T12:50:26.078213Z",
     "start_time": "2020-01-15T12:50:26.060226Z"
    }
   },
   "outputs": [
    {
     "data": {
      "text/html": [
       "<div>\n",
       "<style scoped>\n",
       "    .dataframe tbody tr th:only-of-type {\n",
       "        vertical-align: middle;\n",
       "    }\n",
       "\n",
       "    .dataframe tbody tr th {\n",
       "        vertical-align: top;\n",
       "    }\n",
       "\n",
       "    .dataframe thead th {\n",
       "        text-align: right;\n",
       "    }\n",
       "</style>\n",
       "<table border=\"1\" class=\"dataframe\">\n",
       "  <thead>\n",
       "    <tr style=\"text-align: right;\">\n",
       "      <th></th>\n",
       "      <th>Recency (months)</th>\n",
       "      <th>Frequency (times)</th>\n",
       "      <th>Monetary (c.c. blood)</th>\n",
       "      <th>Time (months)</th>\n",
       "      <th>whether he/she donated blood in March 2007</th>\n",
       "    </tr>\n",
       "  </thead>\n",
       "  <tbody>\n",
       "    <tr>\n",
       "      <td>0</td>\n",
       "      <td>2</td>\n",
       "      <td>50</td>\n",
       "      <td>12500</td>\n",
       "      <td>98</td>\n",
       "      <td>1</td>\n",
       "    </tr>\n",
       "    <tr>\n",
       "      <td>1</td>\n",
       "      <td>0</td>\n",
       "      <td>13</td>\n",
       "      <td>3250</td>\n",
       "      <td>28</td>\n",
       "      <td>1</td>\n",
       "    </tr>\n",
       "    <tr>\n",
       "      <td>2</td>\n",
       "      <td>1</td>\n",
       "      <td>16</td>\n",
       "      <td>4000</td>\n",
       "      <td>35</td>\n",
       "      <td>1</td>\n",
       "    </tr>\n",
       "    <tr>\n",
       "      <td>3</td>\n",
       "      <td>2</td>\n",
       "      <td>20</td>\n",
       "      <td>5000</td>\n",
       "      <td>45</td>\n",
       "      <td>1</td>\n",
       "    </tr>\n",
       "    <tr>\n",
       "      <td>4</td>\n",
       "      <td>1</td>\n",
       "      <td>24</td>\n",
       "      <td>6000</td>\n",
       "      <td>77</td>\n",
       "      <td>0</td>\n",
       "    </tr>\n",
       "  </tbody>\n",
       "</table>\n",
       "</div>"
      ],
      "text/plain": [
       "   Recency (months)  Frequency (times)  Monetary (c.c. blood)  Time (months)  \\\n",
       "0                 2                 50                  12500             98   \n",
       "1                 0                 13                   3250             28   \n",
       "2                 1                 16                   4000             35   \n",
       "3                 2                 20                   5000             45   \n",
       "4                 1                 24                   6000             77   \n",
       "\n",
       "   whether he/she donated blood in March 2007  \n",
       "0                                           1  \n",
       "1                                           1  \n",
       "2                                           1  \n",
       "3                                           1  \n",
       "4                                           0  "
      ]
     },
     "execution_count": 3,
     "metadata": {},
     "output_type": "execute_result"
    }
   ],
   "source": [
    "data.head()"
   ]
  },
  {
   "cell_type": "code",
   "execution_count": 6,
   "metadata": {
    "ExecuteTime": {
     "end_time": "2020-01-15T12:51:08.798751Z",
     "start_time": "2020-01-15T12:51:08.793746Z"
    }
   },
   "outputs": [
    {
     "data": {
      "text/plain": [
       "Index(['Recency (months)', 'Frequency (times)', 'Monetary (c.c. blood)',\n",
       "       'Time (months)', 'whether he/she donated blood in March 2007'],\n",
       "      dtype='object')"
      ]
     },
     "execution_count": 6,
     "metadata": {},
     "output_type": "execute_result"
    }
   ],
   "source": [
    "colum = data.columns\n",
    "colum"
   ]
  },
  {
   "cell_type": "code",
   "execution_count": 13,
   "metadata": {
    "ExecuteTime": {
     "end_time": "2020-01-15T12:54:37.642952Z",
     "start_time": "2020-01-15T12:54:37.633974Z"
    }
   },
   "outputs": [
    {
     "name": "stdout",
     "output_type": "stream",
     "text": [
      "Recency (months) - 0\n",
      "Frequency (times) - 0\n",
      "Monetary (c.c. blood) - 0\n",
      "Time (months) - 0\n",
      "whether he/she donated blood in March 2007 - 0\n"
     ]
    }
   ],
   "source": [
    "for a in colum:\n",
    "    print(f'{a} - {sum(data[a].isna())}')"
   ]
  },
  {
   "cell_type": "code",
   "execution_count": 19,
   "metadata": {
    "ExecuteTime": {
     "end_time": "2020-01-15T12:56:50.954108Z",
     "start_time": "2020-01-15T12:56:50.863819Z"
    }
   },
   "outputs": [
    {
     "data": {
      "text/plain": [
       "<matplotlib.axes._subplots.AxesSubplot at 0x238f0700ec8>"
      ]
     },
     "execution_count": 19,
     "metadata": {},
     "output_type": "execute_result"
    },
    {
     "data": {
      "image/png": "[encoded data removed]",
      "text/plain": [
       "<Figure size 432x288 with 1 Axes>"
      ]
     },
     "metadata": {
      "needs_background": "light"
     },
     "output_type": "display_data"
    }
   ],
   "source": [
    "sns.violinplot(data['Recency (months)'])"
   ]
  },
  {
   "cell_type": "code",
   "execution_count": 20,
   "metadata": {
    "ExecuteTime": {
     "end_time": "2020-01-15T12:57:01.108645Z",
     "start_time": "2020-01-15T12:57:01.016891Z"
    }
   },
   "outputs": [
    {
     "data": {
      "text/plain": [
       "<matplotlib.axes._subplots.AxesSubplot at 0x238f0cff148>"
      ]
     },
     "execution_count": 20,
     "metadata": {},
     "output_type": "execute_result"
    },
    {
     "data": {
      "image/png": "[encoded data removed]",
      "text/plain": [
       "<Figure size 432x288 with 1 Axes>"
      ]
     },
     "metadata": {
      "needs_background": "light"
     },
     "output_type": "display_data"
    }
   ],
   "source": [
    "sns.violinplot(data['Frequency (times)'])"
   ]
  },
  {
   "cell_type": "code",
   "execution_count": 21,
   "metadata": {
    "ExecuteTime": {
     "end_time": "2020-01-15T12:57:12.818163Z",
     "start_time": "2020-01-15T12:57:12.725900Z"
    }
   },
   "outputs": [
    {
     "data": {
      "text/plain": [
       "<matplotlib.axes._subplots.AxesSubplot at 0x238f0c0b608>"
      ]
     },
     "execution_count": 21,
     "metadata": {},
     "output_type": "execute_result"
    },
    {
     "data": {
      "image/png": "[encoded data removed]",
      "text/plain": [
       "<Figure size 432x288 with 1 Axes>"
      ]
     },
     "metadata": {
      "needs_background": "light"
     },
     "output_type": "display_data"
    }
   ],
   "source": [
    "sns.violinplot(data['Monetary (c.c. blood)'])"
   ]
  },
  {
   "cell_type": "code",
   "execution_count": 22,
   "metadata": {
    "ExecuteTime": {
     "end_time": "2020-01-15T12:57:24.178900Z",
     "start_time": "2020-01-15T12:57:24.090137Z"
    }
   },
   "outputs": [
    {
     "data": {
      "text/plain": [
       "<matplotlib.axes._subplots.AxesSubplot at 0x238f0ccb548>"
      ]
     },
     "execution_count": 22,
     "metadata": {},
     "output_type": "execute_result"
    },
    {
     "data": {
      "image/png": "[encoded data removed]",
      "text/plain": [
       "<Figure size 432x288 with 1 Axes>"
      ]
     },
     "metadata": {
      "needs_background": "light"
     },
     "output_type": "display_data"
    }
   ],
   "source": [
    "sns.violinplot(data['Time (months)'])"
   ]
  },
  {
   "cell_type": "code",
   "execution_count": 23,
   "metadata": {
    "ExecuteTime": {
     "end_time": "2020-01-15T12:57:30.681283Z",
     "start_time": "2020-01-15T12:57:30.586028Z"
    }
   },
   "outputs": [
    {
     "data": {
      "text/plain": [
       "<matplotlib.axes._subplots.AxesSubplot at 0x238f0c136c8>"
      ]
     },
     "execution_count": 23,
     "metadata": {},
     "output_type": "execute_result"
    },
    {
     "data": {
      "image/png": "[encoded data removed]",
      "text/plain": [
       "<Figure size 432x288 with 1 Axes>"
      ]
     },
     "metadata": {
      "needs_background": "light"
     },
     "output_type": "display_data"
    }
   ],
   "source": [
    "sns.violinplot(data['whether he/she donated blood in March 2007'])"
   ]
  },
  {
   "cell_type": "markdown",
   "metadata": {},
   "source": [
    "# ML"
   ]
  },
  {
   "cell_type": "code",
   "execution_count": 26,
   "metadata": {
    "ExecuteTime": {
     "end_time": "2020-01-15T13:02:34.572647Z",
     "start_time": "2020-01-15T13:02:34.568650Z"
    }
   },
   "outputs": [],
   "source": [
    "from sklearn.datasets import make_classification\n",
    "from sklearn.ensemble import RandomForestClassifier\n",
    "from sklearn.model_selection import train_test_split"
   ]
  },
  {
   "cell_type": "code",
   "execution_count": 33,
   "metadata": {
    "ExecuteTime": {
     "end_time": "2020-01-15T13:04:45.961142Z",
     "start_time": "2020-01-15T13:04:45.949175Z"
    }
   },
   "outputs": [
    {
     "data": {
      "text/html": [
       "<div>\n",
       "<style scoped>\n",
       "    .dataframe tbody tr th:only-of-type {\n",
       "        vertical-align: middle;\n",
       "    }\n",
       "\n",
       "    .dataframe tbody tr th {\n",
       "        vertical-align: top;\n",
       "    }\n",
       "\n",
       "    .dataframe thead th {\n",
       "        text-align: right;\n",
       "    }\n",
       "</style>\n",
       "<table border=\"1\" class=\"dataframe\">\n",
       "  <thead>\n",
       "    <tr style=\"text-align: right;\">\n",
       "      <th></th>\n",
       "      <th>Recency (months)</th>\n",
       "      <th>Frequency (times)</th>\n",
       "      <th>Monetary (c.c. blood)</th>\n",
       "      <th>Time (months)</th>\n",
       "    </tr>\n",
       "  </thead>\n",
       "  <tbody>\n",
       "    <tr>\n",
       "      <td>0</td>\n",
       "      <td>2</td>\n",
       "      <td>50</td>\n",
       "      <td>12500</td>\n",
       "      <td>98</td>\n",
       "    </tr>\n",
       "    <tr>\n",
       "      <td>1</td>\n",
       "      <td>0</td>\n",
       "      <td>13</td>\n",
       "      <td>3250</td>\n",
       "      <td>28</td>\n",
       "    </tr>\n",
       "    <tr>\n",
       "      <td>2</td>\n",
       "      <td>1</td>\n",
       "      <td>16</td>\n",
       "      <td>4000</td>\n",
       "      <td>35</td>\n",
       "    </tr>\n",
       "    <tr>\n",
       "      <td>3</td>\n",
       "      <td>2</td>\n",
       "      <td>20</td>\n",
       "      <td>5000</td>\n",
       "      <td>45</td>\n",
       "    </tr>\n",
       "    <tr>\n",
       "      <td>4</td>\n",
       "      <td>1</td>\n",
       "      <td>24</td>\n",
       "      <td>6000</td>\n",
       "      <td>77</td>\n",
       "    </tr>\n",
       "    <tr>\n",
       "      <td>...</td>\n",
       "      <td>...</td>\n",
       "      <td>...</td>\n",
       "      <td>...</td>\n",
       "      <td>...</td>\n",
       "    </tr>\n",
       "    <tr>\n",
       "      <td>743</td>\n",
       "      <td>23</td>\n",
       "      <td>2</td>\n",
       "      <td>500</td>\n",
       "      <td>38</td>\n",
       "    </tr>\n",
       "    <tr>\n",
       "      <td>744</td>\n",
       "      <td>21</td>\n",
       "      <td>2</td>\n",
       "      <td>500</td>\n",
       "      <td>52</td>\n",
       "    </tr>\n",
       "    <tr>\n",
       "      <td>745</td>\n",
       "      <td>23</td>\n",
       "      <td>3</td>\n",
       "      <td>750</td>\n",
       "      <td>62</td>\n",
       "    </tr>\n",
       "    <tr>\n",
       "      <td>746</td>\n",
       "      <td>39</td>\n",
       "      <td>1</td>\n",
       "      <td>250</td>\n",
       "      <td>39</td>\n",
       "    </tr>\n",
       "    <tr>\n",
       "      <td>747</td>\n",
       "      <td>72</td>\n",
       "      <td>1</td>\n",
       "      <td>250</td>\n",
       "      <td>72</td>\n",
       "    </tr>\n",
       "  </tbody>\n",
       "</table>\n",
       "<p>748 rows × 4 columns</p>\n",
       "</div>"
      ],
      "text/plain": [
       "     Recency (months)  Frequency (times)  Monetary (c.c. blood)  Time (months)\n",
       "0                   2                 50                  12500             98\n",
       "1                   0                 13                   3250             28\n",
       "2                   1                 16                   4000             35\n",
       "3                   2                 20                   5000             45\n",
       "4                   1                 24                   6000             77\n",
       "..                ...                ...                    ...            ...\n",
       "743                23                  2                    500             38\n",
       "744                21                  2                    500             52\n",
       "745                23                  3                    750             62\n",
       "746                39                  1                    250             39\n",
       "747                72                  1                    250             72\n",
       "\n",
       "[748 rows x 4 columns]"
      ]
     },
     "execution_count": 33,
     "metadata": {},
     "output_type": "execute_result"
    }
   ],
   "source": [
    "X = data.drop('whether he/she donated blood in March 2007', axis=1)\n",
    "X"
   ]
  },
  {
   "cell_type": "code",
   "execution_count": 35,
   "metadata": {
    "ExecuteTime": {
     "end_time": "2020-01-15T13:05:15.195226Z",
     "start_time": "2020-01-15T13:05:15.189242Z"
    }
   },
   "outputs": [
    {
     "data": {
      "text/plain": [
       "0      1\n",
       "1      1\n",
       "2      1\n",
       "3      1\n",
       "4      0\n",
       "      ..\n",
       "743    0\n",
       "744    0\n",
       "745    0\n",
       "746    0\n",
       "747    0\n",
       "Name: whether he/she donated blood in March 2007, Length: 748, dtype: int64"
      ]
     },
     "execution_count": 35,
     "metadata": {},
     "output_type": "execute_result"
    }
   ],
   "source": [
    "Y = data['whether he/she donated blood in March 2007']\n",
    "Y"
   ]
  },
  {
   "cell_type": "code",
   "execution_count": 36,
   "metadata": {
    "ExecuteTime": {
     "end_time": "2020-01-15T13:05:19.679563Z",
     "start_time": "2020-01-15T13:05:19.669075Z"
    }
   },
   "outputs": [],
   "source": [
    "X_train, X_test, y_train, y_test = train_test_split(X,\n",
    "                                                    Y,\n",
    "                                                    test_size=0.33,\n",
    "                                                    random_state=42)"
   ]
  },
  {
   "cell_type": "code",
   "execution_count": 47,
   "metadata": {
    "ExecuteTime": {
     "end_time": "2020-01-15T13:09:39.466793Z",
     "start_time": "2020-01-15T13:09:39.439357Z"
    }
   },
   "outputs": [],
   "source": [
    "RandomForestClassifier??"
   ]
  },
  {
   "cell_type": "markdown",
   "metadata": {},
   "source": [
    "# Random Forest"
   ]
  },
  {
   "cell_type": "code",
   "execution_count": 52,
   "metadata": {
    "ExecuteTime": {
     "end_time": "2020-01-15T13:10:17.772138Z",
     "start_time": "2020-01-15T13:10:17.769146Z"
    }
   },
   "outputs": [],
   "source": [
    "clf = RandomForestClassifier()"
   ]
  },
  {
   "cell_type": "code",
   "execution_count": 54,
   "metadata": {
    "ExecuteTime": {
     "end_time": "2020-01-15T13:10:24.664004Z",
     "start_time": "2020-01-15T13:10:24.567732Z"
    }
   },
   "outputs": [
    {
     "data": {
      "text/plain": [
       "RandomForestClassifier(bootstrap=True, ccp_alpha=0.0, class_weight=None,\n",
       "                       criterion='gini', max_depth=None, max_features='auto',\n",
       "                       max_leaf_nodes=None, max_samples=None,\n",
       "                       min_impurity_decrease=0.0, min_impurity_split=None,\n",
       "                       min_samples_leaf=1, min_samples_split=2,\n",
       "                       min_weight_fraction_leaf=0.0, n_estimators=100,\n",
       "                       n_jobs=None, oob_score=False, random_state=None,\n",
       "                       verbose=0, warm_start=False)"
      ]
     },
     "execution_count": 54,
     "metadata": {},
     "output_type": "execute_result"
    }
   ],
   "source": [
    "clf.fit(X_train, y_train)"
   ]
  },
  {
   "cell_type": "code",
   "execution_count": 63,
   "metadata": {
    "ExecuteTime": {
     "end_time": "2020-01-15T13:26:40.697868Z",
     "start_time": "2020-01-15T13:26:40.678379Z"
    }
   },
   "outputs": [
    {
     "data": {
      "text/plain": [
       "array([0, 0, 0, 0, 0, 0, 0, 0, 1, 0, 0, 0, 0, 0, 0, 0, 0, 0, 0, 0, 0, 0,\n",
       "       1, 0, 0, 0, 0, 0, 0, 0, 0, 0, 0, 0, 0, 1, 0, 0, 0, 0, 1, 0, 1, 0,\n",
       "       0, 0, 0, 0, 0, 0, 1, 0, 0, 0, 0, 0, 0, 0, 1, 1, 0, 0, 0, 0, 0, 0,\n",
       "       0, 0, 0, 0, 0, 0, 1, 0, 0, 0, 0, 1, 0, 0, 0, 1, 0, 1, 0, 0, 0, 0,\n",
       "       0, 1, 1, 1, 0, 0, 1, 0, 0, 0, 1, 0, 0, 0, 1, 0, 0, 1, 0, 0, 0, 0,\n",
       "       0, 0, 0, 0, 0, 0, 0, 0, 0, 0, 0, 1, 0, 0, 0, 0, 1, 0, 1, 0, 0, 1,\n",
       "       0, 0, 1, 0, 0, 0, 1, 0, 0, 0, 0, 0, 0, 0, 0, 0, 1, 0, 0, 0, 1, 0,\n",
       "       1, 0, 0, 0, 0, 0, 1, 0, 0, 0, 0, 0, 1, 0, 1, 0, 0, 0, 0, 0, 1, 0,\n",
       "       0, 0, 1, 0, 0, 0, 0, 0, 0, 0, 0, 0, 0, 0, 0, 0, 0, 0, 0, 0, 1, 0,\n",
       "       1, 0, 0, 0, 0, 0, 0, 1, 0, 0, 0, 1, 0, 1, 0, 0, 0, 1, 0, 0, 0, 0,\n",
       "       0, 0, 0, 0, 0, 0, 0, 0, 0, 0, 0, 0, 0, 1, 0, 0, 0, 0, 0, 0, 0, 0,\n",
       "       0, 0, 0, 1, 0], dtype=int64)"
      ]
     },
     "execution_count": 63,
     "metadata": {},
     "output_type": "execute_result"
    }
   ],
   "source": [
    "pred = clf.predict(X_test); pred"
   ]
  },
  {
   "cell_type": "code",
   "execution_count": 45,
   "metadata": {
    "ExecuteTime": {
     "end_time": "2020-01-15T13:09:19.163175Z",
     "start_time": "2020-01-15T13:09:19.160182Z"
    }
   },
   "outputs": [],
   "source": [
    "from sklearn.metrics import accuracy_score"
   ]
  },
  {
   "cell_type": "code",
   "execution_count": 56,
   "metadata": {
    "ExecuteTime": {
     "end_time": "2020-01-15T13:10:26.555451Z",
     "start_time": "2020-01-15T13:10:26.549367Z"
    }
   },
   "outputs": [
    {
     "data": {
      "text/plain": [
       "0.728744939271255"
      ]
     },
     "execution_count": 56,
     "metadata": {},
     "output_type": "execute_result"
    }
   ],
   "source": [
    "accuracy_score(y_test, pred)"
   ]
  },
  {
   "cell_type": "code",
   "execution_count": 65,
   "metadata": {
    "ExecuteTime": {
     "end_time": "2020-01-15T13:27:09.801709Z",
     "start_time": "2020-01-15T13:27:09.792226Z"
    }
   },
   "outputs": [
    {
     "name": "stdout",
     "output_type": "stream",
     "text": [
      "name                      score\n",
      "Recency (months)       0.436995\n",
      "Time (months)          0.256959\n",
      "Frequency (times)      0.178766\n",
      "Monetary (c.c. blood)  0.12728\n"
     ]
    }
   ],
   "source": [
    "from tabulate import tabulate\n",
    "headers = [\"name\", \"score\"]\n",
    "values = sorted(zip(train_x.columns, clf_rf.feature_importances_), key=lambda x: x[1] * -1)\n",
    "print(tabulate(values, headers, tablefmt=\"plain\"))"
   ]
  },
  {
   "cell_type": "markdown",
   "metadata": {},
   "source": [
    "# REg"
   ]
  },
  {
   "cell_type": "code",
   "execution_count": 61,
   "metadata": {
    "ExecuteTime": {
     "end_time": "2020-01-15T13:26:13.855980Z",
     "start_time": "2020-01-15T13:26:13.851990Z"
    }
   },
   "outputs": [],
   "source": [
    "from sklearn.model_selection import cross_val_score"
   ]
  },
  {
   "cell_type": "code",
   "execution_count": 58,
   "metadata": {
    "ExecuteTime": {
     "end_time": "2020-01-15T13:25:17.263576Z",
     "start_time": "2020-01-15T13:25:17.257592Z"
    }
   },
   "outputs": [],
   "source": [
    "train_x, test_x, train_y, test_y = train_test_split(X, Y,random_state = 2,test_size=0.3)"
   ]
  },
  {
   "cell_type": "code",
   "execution_count": 59,
   "metadata": {
    "ExecuteTime": {
     "end_time": "2020-01-15T13:25:18.193954Z",
     "start_time": "2020-01-15T13:25:18.142562Z"
    }
   },
   "outputs": [
    {
     "name": "stdout",
     "output_type": "stream",
     "text": [
      "accuracy: 11.983923426551947%\n",
      "Mean absolute error: 0.3299436198540863\n",
      "Mean squared error: 0.17212032752140954\n",
      "R Squared: 0.11983923426551946\n",
      "Adjusted R Squared: 0.10789135056776633\n"
     ]
    }
   ],
   "source": [
    "from sklearn.metrics import mean_squared_error\n",
    "from sklearn.metrics import mean_absolute_error\n",
    "from sklearn.metrics import r2_score\n",
    "from sklearn import linear_model\n",
    "\n",
    "regr = linear_model.LinearRegression()\n",
    "regr.fit(train_x,train_y)\n",
    "y_pred = regr.predict(test_x)\n",
    "print(\"accuracy: \"+ str(regr.score(test_x,test_y)*100) + \"%\")\n",
    "print(\"Mean absolute error: {}\".format(mean_absolute_error(test_y,y_pred)))\n",
    "print(\"Mean squared error: {}\".format(mean_squared_error(test_y,y_pred)))\n",
    "R2 = r2_score(test_y,y_pred)\n",
    "print('R Squared: {}'.format(R2))\n",
    "n=test_x.shape[0]\n",
    "p=test_x.shape[1] - 1\n",
    "adj_rsquared = 1 - (1 - R2) * ((n - 1)/(n-p-1))\n",
    "print('Adjusted R Squared: {}'.format(adj_rsquared))"
   ]
  },
  {
   "cell_type": "markdown",
   "metadata": {},
   "source": [
    "# ada"
   ]
  },
  {
   "cell_type": "code",
   "execution_count": 62,
   "metadata": {
    "ExecuteTime": {
     "end_time": "2020-01-15T13:26:15.885436Z",
     "start_time": "2020-01-15T13:26:15.789694Z"
    }
   },
   "outputs": [
    {
     "name": "stdout",
     "output_type": "stream",
     "text": [
      "Score : 0.1329\n",
      "MSE    : 0.17 \n",
      "MAE    : 0.35 \n",
      "RMSE   : 0.41 \n",
      "R2     : 0.13 \n"
     ]
    },
    {
     "name": "stderr",
     "output_type": "stream",
     "text": [
      "[Parallel(n_jobs=1)]: Using backend SequentialBackend with 1 concurrent workers.\n",
      "[Parallel(n_jobs=1)]: Done   5 out of   5 | elapsed:    0.0s finished\n"
     ]
    }
   ],
   "source": [
    "from sklearn.ensemble import AdaBoostRegressor \n",
    "\n",
    "clf_rf = AdaBoostRegressor()\n",
    "clf_rf.fit(train_x , train_y)\n",
    "accuracies = cross_val_score(estimator = clf_rf, X = train_x, y = train_y, cv = 5,verbose = 1)\n",
    "y_pred2 = clf_rf.predict(test_x)\n",
    "print('Score : %.4f' % clf_rf.score(test_x, test_y))\n",
    "mse = mean_squared_error(test_y, y_pred2)\n",
    "mae = mean_absolute_error(test_y, y_pred2)\n",
    "rmse = mean_squared_error(test_y, y_pred2)**0.5\n",
    "r2 = r2_score(test_y, y_pred2)\n",
    "print('MSE    : %0.2f ' % mse)\n",
    "print('MAE    : %0.2f ' % mae)\n",
    "print('RMSE   : %0.2f ' % rmse)\n",
    "print('R2     : %0.2f ' % r2)"
   ]
  },
  {
   "cell_type": "markdown",
   "metadata": {},
   "source": [
    "# gradient boost"
   ]
  },
  {
   "cell_type": "code",
   "execution_count": 66,
   "metadata": {
    "ExecuteTime": {
     "end_time": "2020-01-15T13:27:36.813322Z",
     "start_time": "2020-01-15T13:27:36.612479Z"
    }
   },
   "outputs": [
    {
     "name": "stdout",
     "output_type": "stream",
     "text": [
      "      Iter       Train Loss   Remaining Time \n",
      "         1           0.1717            0.10s\n",
      "         2           0.1692            0.05s\n",
      "         3           0.1673            0.06s\n",
      "         4           0.1657            0.07s\n",
      "         5           0.1644            0.06s\n",
      "         6           0.1633            0.05s\n",
      "         7           0.1622            0.06s\n",
      "         8           0.1614            0.06s\n",
      "         9           0.1605            0.05s\n",
      "        10           0.1597            0.06s\n",
      "        20           0.1547            0.04s\n",
      "        30           0.1516            0.03s\n",
      "        40           0.1494            0.02s\n",
      "        50           0.1477            0.02s\n",
      "        60           0.1464            0.01s\n",
      "        70           0.1454            0.01s\n",
      "        80           0.1447            0.01s\n",
      "        90           0.1441            0.00s\n",
      "       100           0.1436            0.00s\n",
      "      Iter       Train Loss   Remaining Time \n",
      "         1           0.1724            0.00s\n",
      "         2           0.1698            0.05s\n",
      "         3           0.1676            0.03s\n",
      "         4           0.1659            0.05s\n",
      "         5           0.1645            0.04s\n",
      "         6           0.1631            0.05s\n",
      "         7           0.1620            0.04s\n",
      "         8           0.1609            0.05s\n",
      "         9           0.1599            0.04s\n",
      "        10           0.1591            0.04s\n",
      "        20           0.1531            0.03s\n",
      "        30           0.1492            0.02s\n",
      "        40           0.1465            0.02s\n",
      "        50           0.1444            0.01s\n",
      "        60           0.1429            0.01s\n",
      "        70           0.1417            0.01s\n",
      "        80           0.1408            0.01s\n",
      "        90           0.1401            0.00s\n",
      "       100           0.1395            0.00s\n",
      "      Iter       Train Loss   Remaining Time \n",
      "         1           0.1688            0.10s\n",
      "         2           0.1665            0.05s\n",
      "         3           0.1646            0.06s\n",
      "         4           0.1631            0.05s\n",
      "         5           0.1618            0.04s\n",
      "         6           0.1607            0.05s\n",
      "         7           0.1597            0.04s\n",
      "         8           0.1587            0.05s\n",
      "         9           0.1578            0.04s\n",
      "        10           0.1571            0.04s\n",
      "        20           0.1518            0.03s\n",
      "        30           0.1485            0.02s\n",
      "        40           0.1460            0.02s\n",
      "        50           0.1441            0.01s\n",
      "        60           0.1426            0.01s\n",
      "        70           0.1414            0.01s\n",
      "        80           0.1404            0.01s\n",
      "        90           0.1396            0.00s\n",
      "       100           0.1389            0.00s\n",
      "      Iter       Train Loss   Remaining Time \n",
      "         1           0.1686            0.00s\n",
      "         2           0.1662            0.05s\n",
      "         3           0.1642            0.03s\n",
      "         4           0.1626            0.05s\n",
      "         5           0.1613            0.04s\n",
      "         6           0.1602            0.05s\n",
      "         7           0.1594            0.04s\n",
      "         8           0.1586            0.05s\n",
      "         9           0.1579            0.04s\n",
      "        10           0.1573            0.04s\n",
      "        20           0.1528            0.03s\n",
      "        30           0.1503            0.02s\n",
      "        40           0.1483            0.02s\n",
      "        50           0.1468            0.01s\n",
      "        60           0.1456            0.01s\n",
      "        70           0.1446            0.01s\n",
      "        80           0.1438            0.01s\n",
      "        90           0.1432            0.00s\n",
      "       100           0.1426            0.00s\n",
      "      Iter       Train Loss   Remaining Time \n",
      "         1           0.1740            0.00s\n",
      "         2           0.1718            0.05s\n",
      "         3           0.1701            0.03s\n",
      "         4           0.1687            0.05s\n",
      "         5           0.1675            0.04s\n",
      "         6           0.1666            0.05s\n",
      "         7           0.1657            0.04s\n",
      "         8           0.1648            0.05s\n",
      "         9           0.1641            0.04s\n",
      "        10           0.1634            0.04s\n",
      "        20           0.1577            0.03s\n",
      "        30           0.1540            0.02s\n",
      "        40           0.1514            0.02s\n",
      "        50           0.1496            0.01s\n",
      "        60           0.1482            0.01s\n",
      "        70           0.1471            0.01s\n",
      "        80           0.1463            0.01s\n",
      "        90           0.1456            0.00s\n",
      "       100           0.1450            0.00s\n",
      "      Iter       Train Loss   Remaining Time \n",
      "         1           0.1744            0.00s\n",
      "         2           0.1716            0.05s\n",
      "         3           0.1693            0.03s\n",
      "         4           0.1675            0.05s\n",
      "         5           0.1659            0.04s\n",
      "         6           0.1644            0.03s\n",
      "         7           0.1632            0.04s\n",
      "         8           0.1620            0.03s\n",
      "         9           0.1610            0.04s\n",
      "        10           0.1601            0.04s\n",
      "        20           0.1541            0.03s\n",
      "        30           0.1505            0.02s\n",
      "        40           0.1480            0.02s\n",
      "        50           0.1462            0.01s\n",
      "        60           0.1448            0.01s\n",
      "        70           0.1437            0.01s\n",
      "        80           0.1427            0.01s\n",
      "        90           0.1419            0.00s\n",
      "       100           0.1412            0.00s\n",
      "Score : 0.1234\n",
      "MSE    : 0.17 \n",
      "MAE    : 0.32 \n",
      "RMSE   : 0.41 \n",
      "R2     : 0.12 \n"
     ]
    },
    {
     "name": "stderr",
     "output_type": "stream",
     "text": [
      "[Parallel(n_jobs=1)]: Using backend SequentialBackend with 1 concurrent workers.\n",
      "[Parallel(n_jobs=1)]: Done   5 out of   5 | elapsed:    0.1s finished\n"
     ]
    }
   ],
   "source": [
    "from sklearn.ensemble import GradientBoostingRegressor\n",
    "\n",
    "clf_gbr = GradientBoostingRegressor(n_estimators=100, learning_rate=0.1,max_depth=1, random_state=0, loss='ls',verbose = 1)\n",
    "clf_gbr.fit(train_x , train_y)\n",
    "accuracies = cross_val_score(estimator = clf_gbr, X = train_x, y = train_y, cv = 5,verbose = 1)\n",
    "y_pred2 = clf_gbr.predict(test_x)\n",
    "print('Score : %.4f' % clf_gbr.score(test_x, test_y))\n",
    "mse = mean_squared_error(test_y, y_pred2)\n",
    "mae = mean_absolute_error(test_y, y_pred2)\n",
    "rmse = mean_squared_error(test_y, y_pred2)**0.5\n",
    "r2 = r2_score(test_y, y_pred2)\n",
    "print('MSE    : %0.2f ' % mse)\n",
    "print('MAE    : %0.2f ' % mae)\n",
    "print('RMSE   : %0.2f ' % rmse)\n",
    "print('R2     : %0.2f ' % r2)"
   ]
  },
  {
   "cell_type": "markdown",
   "metadata": {},
   "source": [
    "# DL"
   ]
  },
  {
   "cell_type": "code",
   "execution_count": 68,
   "metadata": {
    "ExecuteTime": {
     "end_time": "2020-01-15T13:28:42.359407Z",
     "start_time": "2020-01-15T13:28:39.019953Z"
    }
   },
   "outputs": [],
   "source": [
    "from fastai.tabular import *"
   ]
  },
  {
   "cell_type": "code",
   "execution_count": 69,
   "metadata": {
    "ExecuteTime": {
     "end_time": "2020-01-15T13:28:42.364395Z",
     "start_time": "2020-01-15T13:28:42.360405Z"
    }
   },
   "outputs": [],
   "source": [
    "path = Path('data')"
   ]
  },
  {
   "cell_type": "code",
   "execution_count": 72,
   "metadata": {
    "ExecuteTime": {
     "end_time": "2020-01-15T13:30:07.905404Z",
     "start_time": "2020-01-15T13:30:07.901415Z"
    }
   },
   "outputs": [],
   "source": [
    "cat_names = []\n",
    "cont_names = data.columns"
   ]
  },
  {
   "cell_type": "code",
   "execution_count": 92,
   "metadata": {
    "ExecuteTime": {
     "end_time": "2020-01-15T13:54:18.511921Z",
     "start_time": "2020-01-15T13:54:18.507933Z"
    }
   },
   "outputs": [],
   "source": [
    "valid_idx = list(range(300, 400))"
   ]
  },
  {
   "cell_type": "code",
   "execution_count": 74,
   "metadata": {
    "ExecuteTime": {
     "end_time": "2020-01-15T13:30:19.478313Z",
     "start_time": "2020-01-15T13:30:19.450388Z"
    }
   },
   "outputs": [],
   "source": [
    "procs = [FillMissing, Categorify, Normalize]\n",
    "dep_var = 'whether he/she donated blood in March 2007'\n",
    "\n",
    "data2 = (TabularList.from_df(data, cat_names=cat_names, cont_names=cont_names, procs=procs)\n",
    "                   .split_by_idx(range(300,400))\n",
    "                   .label_from_df(cols=dep_var, label_cls=CategoryList)\n",
    "                   .databunch(bs = 64))\n"
   ]
  },
  {
   "cell_type": "code",
   "execution_count": 75,
   "metadata": {
    "ExecuteTime": {
     "end_time": "2020-01-15T13:30:32.779589Z",
     "start_time": "2020-01-15T13:30:29.705175Z"
    },
    "scrolled": true
   },
   "outputs": [
    {
     "data": {
      "text/html": [
       "<table border=\"1\" class=\"dataframe\">\n",
       "  <thead>\n",
       "    <tr style=\"text-align: right;\">\n",
       "      <th>Recency (months)</th>\n",
       "      <th>Frequency (times)</th>\n",
       "      <th>Monetary (c.c. blood)</th>\n",
       "      <th>Time (months)</th>\n",
       "      <th>whether he/she donated blood in March 2007</th>\n",
       "      <th>target</th>\n",
       "    </tr>\n",
       "  </thead>\n",
       "  <tbody>\n",
       "    <tr>\n",
       "      <td>-0.8326</td>\n",
       "      <td>0.5553</td>\n",
       "      <td>0.5553</td>\n",
       "      <td>1.6660</td>\n",
       "      <td>-0.5793</td>\n",
       "      <td>0</td>\n",
       "    </tr>\n",
       "    <tr>\n",
       "      <td>-0.3590</td>\n",
       "      <td>2.7329</td>\n",
       "      <td>2.7329</td>\n",
       "      <td>-0.2389</td>\n",
       "      <td>1.7236</td>\n",
       "      <td>1</td>\n",
       "    </tr>\n",
       "    <tr>\n",
       "      <td>-0.4774</td>\n",
       "      <td>0.0527</td>\n",
       "      <td>0.0527</td>\n",
       "      <td>-0.2389</td>\n",
       "      <td>-0.5793</td>\n",
       "      <td>0</td>\n",
       "    </tr>\n",
       "    <tr>\n",
       "      <td>-0.5958</td>\n",
       "      <td>-0.1148</td>\n",
       "      <td>-0.1148</td>\n",
       "      <td>-0.7253</td>\n",
       "      <td>1.7236</td>\n",
       "      <td>1</td>\n",
       "    </tr>\n",
       "    <tr>\n",
       "      <td>-0.5958</td>\n",
       "      <td>-0.7848</td>\n",
       "      <td>-0.7848</td>\n",
       "      <td>-1.2116</td>\n",
       "      <td>1.7236</td>\n",
       "      <td>1</td>\n",
       "    </tr>\n",
       "    <tr>\n",
       "      <td>-0.5958</td>\n",
       "      <td>1.7278</td>\n",
       "      <td>1.7278</td>\n",
       "      <td>2.5981</td>\n",
       "      <td>1.7236</td>\n",
       "      <td>1</td>\n",
       "    </tr>\n",
       "    <tr>\n",
       "      <td>-0.5958</td>\n",
       "      <td>-0.1148</td>\n",
       "      <td>-0.1148</td>\n",
       "      <td>-0.7253</td>\n",
       "      <td>1.7236</td>\n",
       "      <td>1</td>\n",
       "    </tr>\n",
       "    <tr>\n",
       "      <td>-0.7142</td>\n",
       "      <td>0.3878</td>\n",
       "      <td>0.3878</td>\n",
       "      <td>0.6527</td>\n",
       "      <td>-0.5793</td>\n",
       "      <td>0</td>\n",
       "    </tr>\n",
       "    <tr>\n",
       "      <td>0.8249</td>\n",
       "      <td>-0.6173</td>\n",
       "      <td>-0.6173</td>\n",
       "      <td>-0.7253</td>\n",
       "      <td>-0.5793</td>\n",
       "      <td>0</td>\n",
       "    </tr>\n",
       "    <tr>\n",
       "      <td>-0.5958</td>\n",
       "      <td>-0.7848</td>\n",
       "      <td>-0.7848</td>\n",
       "      <td>-1.2116</td>\n",
       "      <td>-0.5793</td>\n",
       "      <td>0</td>\n",
       "    </tr>\n",
       "  </tbody>\n",
       "</table>"
      ],
      "text/plain": [
       "<IPython.core.display.HTML object>"
      ]
     },
     "metadata": {},
     "output_type": "display_data"
    }
   ],
   "source": [
    "data2.show_batch(10)"
   ]
  },
  {
   "cell_type": "code",
   "execution_count": 85,
   "metadata": {
    "ExecuteTime": {
     "end_time": "2020-01-15T13:43:47.295715Z",
     "start_time": "2020-01-15T13:43:47.287222Z"
    }
   },
   "outputs": [],
   "source": [
    "learn = tabular_learner(data2, layers=[200,100], metrics=accuracy)"
   ]
  },
  {
   "cell_type": "code",
   "execution_count": 77,
   "metadata": {
    "ExecuteTime": {
     "end_time": "2020-01-15T13:35:23.061308Z",
     "start_time": "2020-01-15T13:30:55.686901Z"
    }
   },
   "outputs": [
    {
     "data": {
      "text/html": [
       "\n",
       "    <div>\n",
       "        <style>\n",
       "            /* Turns off some styling */\n",
       "            progress {\n",
       "                /* gets rid of default border in Firefox and Opera. */\n",
       "                border: none;\n",
       "                /* Needs to be in here for Safari polyfill so background images work as expected. */\n",
       "                background-size: auto;\n",
       "            }\n",
       "            .progress-bar-interrupted, .progress-bar-interrupted::-webkit-progress-bar {\n",
       "                background: #F44336;\n",
       "            }\n",
       "        </style>\n",
       "      <progress value='9' class='' max='10', style='width:300px; height:20px; vertical-align: middle;'></progress>\n",
       "      90.00% [9/10 03:59<00:26]\n",
       "    </div>\n",
       "    \n",
       "<table border=\"1\" class=\"dataframe\">\n",
       "  <thead>\n",
       "    <tr style=\"text-align: left;\">\n",
       "      <th>epoch</th>\n",
       "      <th>train_loss</th>\n",
       "      <th>valid_loss</th>\n",
       "      <th>accuracy</th>\n",
       "      <th>time</th>\n",
       "    </tr>\n",
       "  </thead>\n",
       "  <tbody>\n",
       "    <tr>\n",
       "      <td>0</td>\n",
       "      <td>0.842969</td>\n",
       "      <td>#na#</td>\n",
       "      <td>00:29</td>\n",
       "    </tr>\n",
       "    <tr>\n",
       "      <td>1</td>\n",
       "      <td>0.844527</td>\n",
       "      <td>#na#</td>\n",
       "      <td>00:27</td>\n",
       "    </tr>\n",
       "    <tr>\n",
       "      <td>2</td>\n",
       "      <td>0.840010</td>\n",
       "      <td>#na#</td>\n",
       "      <td>00:26</td>\n",
       "    </tr>\n",
       "    <tr>\n",
       "      <td>3</td>\n",
       "      <td>0.806000</td>\n",
       "      <td>#na#</td>\n",
       "      <td>00:26</td>\n",
       "    </tr>\n",
       "    <tr>\n",
       "      <td>4</td>\n",
       "      <td>0.695140</td>\n",
       "      <td>#na#</td>\n",
       "      <td>00:25</td>\n",
       "    </tr>\n",
       "    <tr>\n",
       "      <td>5</td>\n",
       "      <td>0.542969</td>\n",
       "      <td>#na#</td>\n",
       "      <td>00:25</td>\n",
       "    </tr>\n",
       "    <tr>\n",
       "      <td>6</td>\n",
       "      <td>0.415328</td>\n",
       "      <td>#na#</td>\n",
       "      <td>00:25</td>\n",
       "    </tr>\n",
       "    <tr>\n",
       "      <td>7</td>\n",
       "      <td>0.320542</td>\n",
       "      <td>#na#</td>\n",
       "      <td>00:26</td>\n",
       "    </tr>\n",
       "    <tr>\n",
       "      <td>8</td>\n",
       "      <td>0.250545</td>\n",
       "      <td>#na#</td>\n",
       "      <td>00:27</td>\n",
       "    </tr>\n",
       "  </tbody>\n",
       "</table><p>\n",
       "\n",
       "    <div>\n",
       "        <style>\n",
       "            /* Turns off some styling */\n",
       "            progress {\n",
       "                /* gets rid of default border in Firefox and Opera. */\n",
       "                border: none;\n",
       "                /* Needs to be in here for Safari polyfill so background images work as expected. */\n",
       "                background-size: auto;\n",
       "            }\n",
       "            .progress-bar-interrupted, .progress-bar-interrupted::-webkit-progress-bar {\n",
       "                background: #F44336;\n",
       "            }\n",
       "        </style>\n",
       "      <progress value='9' class='' max='10', style='width:300px; height:20px; vertical-align: middle;'></progress>\n",
       "      90.00% [9/10 00:25<00:02 0.2024]\n",
       "    </div>\n",
       "    "
      ],
      "text/plain": [
       "<IPython.core.display.HTML object>"
      ]
     },
     "metadata": {},
     "output_type": "display_data"
    },
    {
     "name": "stdout",
     "output_type": "stream",
     "text": [
      "LR Finder is complete, type {learner_name}.recorder.plot() to see the graph.\n"
     ]
    },
    {
     "data": {
      "image/png": "[encoded data removed]",
      "text/plain": [
       "<Figure size 432x288 with 1 Axes>"
      ]
     },
     "metadata": {
      "needs_background": "light"
     },
     "output_type": "display_data"
    }
   ],
   "source": [
    "learn.lr_find()\n",
    "learn.recorder.plot()"
   ]
  },
  {
   "cell_type": "code",
   "execution_count": 86,
   "metadata": {
    "ExecuteTime": {
     "end_time": "2020-01-15T13:48:05.085618Z",
     "start_time": "2020-01-15T13:43:49.457816Z"
    }
   },
   "outputs": [
    {
     "data": {
      "text/html": [
       "<table border=\"1\" class=\"dataframe\">\n",
       "  <thead>\n",
       "    <tr style=\"text-align: left;\">\n",
       "      <th>epoch</th>\n",
       "      <th>train_loss</th>\n",
       "      <th>valid_loss</th>\n",
       "      <th>accuracy</th>\n",
       "      <th>time</th>\n",
       "    </tr>\n",
       "  </thead>\n",
       "  <tbody>\n",
       "    <tr>\n",
       "      <td>0</td>\n",
       "      <td>0.909935</td>\n",
       "      <td>0.797022</td>\n",
       "      <td>0.200000</td>\n",
       "      <td>00:49</td>\n",
       "    </tr>\n",
       "    <tr>\n",
       "      <td>1</td>\n",
       "      <td>0.808458</td>\n",
       "      <td>0.833309</td>\n",
       "      <td>0.190000</td>\n",
       "      <td>00:49</td>\n",
       "    </tr>\n",
       "    <tr>\n",
       "      <td>2</td>\n",
       "      <td>0.674694</td>\n",
       "      <td>0.735068</td>\n",
       "      <td>0.250000</td>\n",
       "      <td>00:49</td>\n",
       "    </tr>\n",
       "    <tr>\n",
       "      <td>3</td>\n",
       "      <td>0.575898</td>\n",
       "      <td>0.625766</td>\n",
       "      <td>0.420000</td>\n",
       "      <td>00:53</td>\n",
       "    </tr>\n",
       "    <tr>\n",
       "      <td>4</td>\n",
       "      <td>0.508935</td>\n",
       "      <td>0.576481</td>\n",
       "      <td>0.710000</td>\n",
       "      <td>00:53</td>\n",
       "    </tr>\n",
       "  </tbody>\n",
       "</table>"
      ],
      "text/plain": [
       "<IPython.core.display.HTML object>"
      ]
     },
     "metadata": {},
     "output_type": "display_data"
    }
   ],
   "source": [
    "learn.fit_one_cycle(5, 1e-04)"
   ]
  },
  {
   "cell_type": "code",
   "execution_count": 87,
   "metadata": {
    "ExecuteTime": {
     "end_time": "2020-01-15T13:48:05.098583Z",
     "start_time": "2020-01-15T13:48:05.087614Z"
    }
   },
   "outputs": [],
   "source": [
    "learn.save('stage-1')"
   ]
  },
  {
   "cell_type": "code",
   "execution_count": 88,
   "metadata": {
    "ExecuteTime": {
     "end_time": "2020-01-15T13:52:28.953724Z",
     "start_time": "2020-01-15T13:48:16.445486Z"
    }
   },
   "outputs": [
    {
     "data": {
      "text/html": [
       "<table border=\"1\" class=\"dataframe\">\n",
       "  <thead>\n",
       "    <tr style=\"text-align: left;\">\n",
       "      <th>epoch</th>\n",
       "      <th>train_loss</th>\n",
       "      <th>valid_loss</th>\n",
       "      <th>accuracy</th>\n",
       "      <th>time</th>\n",
       "    </tr>\n",
       "  </thead>\n",
       "  <tbody>\n",
       "    <tr>\n",
       "      <td>0</td>\n",
       "      <td>0.332788</td>\n",
       "      <td>0.500036</td>\n",
       "      <td>0.900000</td>\n",
       "      <td>00:50</td>\n",
       "    </tr>\n",
       "    <tr>\n",
       "      <td>1</td>\n",
       "      <td>0.306956</td>\n",
       "      <td>0.348749</td>\n",
       "      <td>1.000000</td>\n",
       "      <td>00:50</td>\n",
       "    </tr>\n",
       "    <tr>\n",
       "      <td>2</td>\n",
       "      <td>0.265735</td>\n",
       "      <td>0.252734</td>\n",
       "      <td>1.000000</td>\n",
       "      <td>00:50</td>\n",
       "    </tr>\n",
       "    <tr>\n",
       "      <td>3</td>\n",
       "      <td>0.237645</td>\n",
       "      <td>0.227232</td>\n",
       "      <td>1.000000</td>\n",
       "      <td>00:50</td>\n",
       "    </tr>\n",
       "    <tr>\n",
       "      <td>4</td>\n",
       "      <td>0.218910</td>\n",
       "      <td>0.229013</td>\n",
       "      <td>1.000000</td>\n",
       "      <td>00:50</td>\n",
       "    </tr>\n",
       "  </tbody>\n",
       "</table>"
      ],
      "text/plain": [
       "<IPython.core.display.HTML object>"
      ]
     },
     "metadata": {},
     "output_type": "display_data"
    }
   ],
   "source": [
    "learn.unfreeze()\n",
    "learn.fit_one_cycle(5, 1e-04)"
   ]
  },
  {
   "cell_type": "code",
   "execution_count": 99,
   "metadata": {
    "ExecuteTime": {
     "end_time": "2020-01-15T13:56:08.551934Z",
     "start_time": "2020-01-15T13:56:08.545950Z"
    }
   },
   "outputs": [
    {
     "data": {
      "text/plain": [
       "300    0\n",
       "301    0\n",
       "302    0\n",
       "303    0\n",
       "304    0\n",
       "      ..\n",
       "395    0\n",
       "396    1\n",
       "397    0\n",
       "398    0\n",
       "399    1\n",
       "Name: whether he/she donated blood in March 2007, Length: 100, dtype: int64"
      ]
     },
     "execution_count": 99,
     "metadata": {},
     "output_type": "execute_result"
    }
   ],
   "source": [
    "data.iloc[valid_idx]['whether he/she donated blood in March 2007']"
   ]
  },
  {
   "cell_type": "code",
   "execution_count": 102,
   "metadata": {
    "ExecuteTime": {
     "end_time": "2020-01-15T13:56:37.406100Z",
     "start_time": "2020-01-15T13:56:37.402111Z"
    }
   },
   "outputs": [],
   "source": [
    "from sklearn.metrics import classification_report"
   ]
  },
  {
   "cell_type": "code",
   "execution_count": 103,
   "metadata": {
    "ExecuteTime": {
     "end_time": "2020-01-15T13:56:39.313937Z",
     "start_time": "2020-01-15T13:56:38.438949Z"
    }
   },
   "outputs": [
    {
     "name": "stdout",
     "output_type": "stream",
     "text": [
      "              precision    recall  f1-score   support\n",
      "\n",
      "           0       1.00      1.00      1.00        85\n",
      "           1       1.00      1.00      1.00        15\n",
      "\n",
      "    accuracy                           1.00       100\n",
      "   macro avg       1.00      1.00      1.00       100\n",
      "weighted avg       1.00      1.00      1.00       100\n",
      "\n"
     ]
    }
   ],
   "source": [
    "preds = [int(learn.predict(data.iloc[idx])[0]) for idx in valid_idx]\n",
    "actuals = data.iloc[valid_idx]['whether he/she donated blood in March 2007']\n",
    "print(classification_report(y_pred=preds, y_true=actuals))"
   ]
  },
  {
   "cell_type": "code",
   "execution_count": null,
   "metadata": {},
   "outputs": [],
   "source": []
  },
  {
   "cell_type": "code",
   "execution_count": null,
   "metadata": {},
   "outputs": [],
   "source": []
  },
  {
   "cell_type": "code",
   "execution_count": null,
   "metadata": {},
   "outputs": [],
   "source": []
  },
  {
   "cell_type": "code",
   "execution_count": null,
   "metadata": {},
   "outputs": [],
   "source": []
  },
  {
   "cell_type": "code",
   "execution_count": null,
   "metadata": {},
   "outputs": [],
   "source": []
  },
  {
   "cell_type": "code",
   "execution_count": null,
   "metadata": {},
   "outputs": [],
   "source": []
  },
  {
   "cell_type": "code",
   "execution_count": null,
   "metadata": {},
   "outputs": [],
   "source": []
  },
  {
   "cell_type": "code",
   "execution_count": null,
   "metadata": {},
   "outputs": [],
   "source": []
  }
 ],
 "metadata": {
  "kernelspec": {
   "display_name": "Python 3",
   "language": "python",
   "name": "python3"
  },
  "language_info": {
   "codemirror_mode": {
    "name": "ipython",
    "version": 3
   },
   "file_extension": ".py",
   "mimetype": "text/x-python",
   "name": "python",
   "nbconvert_exporter": "python",
   "pygments_lexer": "ipython3",
   "version": "3.7.6"
  },
  "toc": {
   "base_numbering": 1,
   "nav_menu": {},
   "number_sections": true,
   "sideBar": true,
   "skip_h1_title": false,
   "title_cell": "Table of Contents",
   "title_sidebar": "Contents",
   "toc_cell": false,
   "toc_position": {},
   "toc_section_display": true,
   "toc_window_display": false
  }
 },
 "nbformat": 4,
 "nbformat_minor": 2
}
